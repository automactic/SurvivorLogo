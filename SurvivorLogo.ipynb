{
 "cells": [
  {
   "cell_type": "code",
   "execution_count": 23,
   "metadata": {
    "collapsed": true
   },
   "outputs": [],
   "source": [
    "import os\n",
    "from PIL import Image"
   ]
  },
  {
   "cell_type": "code",
   "execution_count": 24,
   "metadata": {
    "collapsed": false
   },
   "outputs": [],
   "source": [
    "def make_image(ori_img):\n",
    "    ori_pix = ori_img.load()\n",
    "    ori_size = ori_img.size\n",
    "\n",
    "    background_rgb = ori_pix[0,0]\n",
    "\n",
    "    region = ori_img.crop((0, 0, ori_size[0], ori_size[1])) \n",
    "\n",
    "    new_size = (ori_size[0], int(ori_size[0] / 0.675))\n",
    "    new_img = Image.new('RGB', new_size, background_rgb)\n",
    "\n",
    "    position_factor = 0.2\n",
    "    upper = int(new_size[0] * position_factor)\n",
    "    box = (0, upper, ori_size[0], ori_size[1] + upper) # left, upper, right, lower\n",
    "    new_img.paste(ori_img, box)\n",
    "    \n",
    "    return new_img"
   ]
  },
  {
   "cell_type": "code",
   "execution_count": 25,
   "metadata": {
    "collapsed": false
   },
   "outputs": [],
   "source": [
    "for image in os.listdir('RawImages'):\n",
    "    ori_path = os.path.join('RawImages', image)\n",
    "    res_path = os.path.join('Results', image)\n",
    "    ori_img = Image.open(ori_path)\n",
    "    new_img = make_image(ori_img)\n",
    "    new_img.save(res_path)"
   ]
  },
  {
   "cell_type": "code",
   "execution_count": null,
   "metadata": {
    "collapsed": true
   },
   "outputs": [],
   "source": []
  }
 ],
 "metadata": {
  "kernelspec": {
   "display_name": "Python 3",
   "language": "python",
   "name": "python3"
  },
  "language_info": {
   "codemirror_mode": {
    "name": "ipython",
    "version": 3
   },
   "file_extension": ".py",
   "mimetype": "text/x-python",
   "name": "python",
   "nbconvert_exporter": "python",
   "pygments_lexer": "ipython3",
   "version": "3.5.1"
  }
 },
 "nbformat": 4,
 "nbformat_minor": 0
}
