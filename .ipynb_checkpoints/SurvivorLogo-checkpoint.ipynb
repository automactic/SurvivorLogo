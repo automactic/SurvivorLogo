{
 "cells": [
  {
   "cell_type": "code",
   "execution_count": 2,
   "metadata": {
    "collapsed": true
   },
   "outputs": [],
   "source": [
    "from PIL import Image"
   ]
  },
  {
   "cell_type": "code",
   "execution_count": 31,
   "metadata": {
    "collapsed": false
   },
   "outputs": [
    {
     "name": "stdout",
     "output_type": "stream",
     "text": [
      "(0, 600, 3000, 3600)\n"
     ]
    }
   ],
   "source": [
    "ori_img = Image.open('Survivor27.jpg')\n",
    "ori_pix = img.load()\n",
    "ori_size = img.size\n",
    "\n",
    "background_rgb = pix[0,0]\n",
    "\n",
    "region = ori_img.crop((0, 0, ori_size[0], ori_size[1])) \n",
    "\n",
    "new_size = (size[0], int(size[0] / 0.675))\n",
    "new_img = Image.new('RGB', new_size, background_rgb)\n",
    "\n",
    "position_factor = 0.2\n",
    "upper = int(new_size[0] * position_factor)\n",
    "box = (0, upper, ori_size[0], ori_size[1] + upper) # left, upper, right, lower\n",
    "print(box)\n",
    "new_img.paste(ori_img, box)\n",
    "\n",
    "new_img.save('result.jpg')"
   ]
  },
  {
   "cell_type": "code",
   "execution_count": null,
   "metadata": {
    "collapsed": true
   },
   "outputs": [],
   "source": []
  }
 ],
 "metadata": {
  "kernelspec": {
   "display_name": "Python 3",
   "language": "python",
   "name": "python3"
  },
  "language_info": {
   "codemirror_mode": {
    "name": "ipython",
    "version": 3
   },
   "file_extension": ".py",
   "mimetype": "text/x-python",
   "name": "python",
   "nbconvert_exporter": "python",
   "pygments_lexer": "ipython3",
   "version": "3.5.1"
  }
 },
 "nbformat": 4,
 "nbformat_minor": 0
}
